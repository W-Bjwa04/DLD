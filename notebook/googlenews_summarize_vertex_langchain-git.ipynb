{
  "nbformat": 4,
  "nbformat_minor": 0,
  "metadata": {
    "colab": {
      "provenance": [],
      "gpuType": "T4",
      "include_colab_link": true
    },
    "kernelspec": {
      "name": "python3",
      "display_name": "Python 3"
    },
    "language_info": {
      "name": "python"
    },
    "accelerator": "GPU"
  },
  "cells": [
    {
      "cell_type": "markdown",
      "metadata": {
        "id": "view-in-github",
        "colab_type": "text"
      },
      "source": [
        "<a href=\"https://colab.research.google.com/github/W-Bjwa04/DLD/blob/main/notebook/googlenews_summarize_vertex_langchain-git.ipynb\" target=\"_parent\"><img src=\"https://colab.research.google.com/assets/colab-badge.svg\" alt=\"Open In Colab\"/></a>"
      ]
    },
    {
      "cell_type": "markdown",
      "source": [
        "# Summarizing Google News Headlines Using VertexAI PALM API & Langchain\n",
        "\n",
        "In this tutorial, we will perform news summarization of news content gathered from Google News using the following components:\n",
        "\n",
        "- GNews API: Collect news titles & metadata from Google News\n",
        "- Langchain's UnstructuredURLLoader: Retrieve news content\n",
        "- Vertex PALM API: Generate news summary\n",
        "\n",
        "Vertex PALM API is a large language model (LLM) that can be used for a variety of tasks, including text summarization. In this tutorial, we will use the text-bison@001 model from PALM API to summarize news content.\n",
        "\n",
        "Reference and credit to the following resources:\n",
        "- https://github.com/ranahaani/GNews\n",
        "- https://alphasec.io/summarize-google-news-results-with-langchain-and-serper-api/\n",
        "\n",
        "## Objectives:\n",
        "- Learn how to use GNews API, Langchain's UnstructuredURLLoader, and Vertex PALM API to perform news summarization\n",
        "- Create a news summarization function that can be used to automate the process of generating news summaries\n",
        "- Gain a better understanding of the different steps involved in news summarization"
      ],
      "metadata": {
        "id": "lFOAJkMQ88UQ"
      }
    },
    {
      "cell_type": "markdown",
      "source": [
        "## Installation & Preparation"
      ],
      "metadata": {
        "id": "8h46m3ouKevL"
      }
    },
    {
      "cell_type": "code",
      "source": [
        "#install all required package\n",
        "!pip -q install langchain\n",
        "!pip install google-cloud-aiplatform\n",
        "!pip install gnews\n",
        "!pip install unstructured"
      ],
      "metadata": {
        "id": "50lw3hHoJgKb",
        "outputId": "3496c24e-a2e2-4310-de77-68a2310342e4",
        "colab": {
          "base_uri": "https://localhost:8080/"
        }
      },
      "execution_count": 1,
      "outputs": [
        {
          "output_type": "stream",
          "name": "stdout",
          "text": [
            "Requirement already satisfied: google-cloud-aiplatform in /usr/local/lib/python3.11/dist-packages (1.92.0)\n",
            "Requirement already satisfied: google-api-core!=2.0.*,!=2.1.*,!=2.2.*,!=2.3.*,!=2.4.*,!=2.5.*,!=2.6.*,!=2.7.*,<3.0.0,>=1.34.1 in /usr/local/lib/python3.11/dist-packages (from google-api-core[grpc]!=2.0.*,!=2.1.*,!=2.2.*,!=2.3.*,!=2.4.*,!=2.5.*,!=2.6.*,!=2.7.*,<3.0.0,>=1.34.1->google-cloud-aiplatform) (2.24.2)\n",
            "Requirement already satisfied: google-auth<3.0.0,>=2.14.1 in /usr/local/lib/python3.11/dist-packages (from google-cloud-aiplatform) (2.38.0)\n",
            "Requirement already satisfied: proto-plus<2.0.0,>=1.22.3 in /usr/local/lib/python3.11/dist-packages (from google-cloud-aiplatform) (1.26.1)\n",
            "Requirement already satisfied: protobuf!=4.21.0,!=4.21.1,!=4.21.2,!=4.21.3,!=4.21.4,!=4.21.5,<7.0.0,>=3.20.2 in /usr/local/lib/python3.11/dist-packages (from google-cloud-aiplatform) (5.29.4)\n",
            "Requirement already satisfied: packaging>=14.3 in /usr/local/lib/python3.11/dist-packages (from google-cloud-aiplatform) (24.2)\n",
            "Requirement already satisfied: google-cloud-storage<3.0.0,>=1.32.0 in /usr/local/lib/python3.11/dist-packages (from google-cloud-aiplatform) (2.19.0)\n",
            "Requirement already satisfied: google-cloud-bigquery!=3.20.0,<4.0.0,>=1.15.0 in /usr/local/lib/python3.11/dist-packages (from google-cloud-aiplatform) (3.31.0)\n",
            "Requirement already satisfied: google-cloud-resource-manager<3.0.0,>=1.3.3 in /usr/local/lib/python3.11/dist-packages (from google-cloud-aiplatform) (1.14.2)\n",
            "Requirement already satisfied: shapely<3.0.0 in /usr/local/lib/python3.11/dist-packages (from google-cloud-aiplatform) (2.1.0)\n",
            "Requirement already satisfied: google-genai<2.0.0,>=1.0.0 in /usr/local/lib/python3.11/dist-packages (from google-cloud-aiplatform) (1.14.0)\n",
            "Requirement already satisfied: pydantic<3 in /usr/local/lib/python3.11/dist-packages (from google-cloud-aiplatform) (2.11.4)\n",
            "Requirement already satisfied: typing-extensions in /usr/local/lib/python3.11/dist-packages (from google-cloud-aiplatform) (4.13.2)\n",
            "Requirement already satisfied: docstring-parser<1 in /usr/local/lib/python3.11/dist-packages (from google-cloud-aiplatform) (0.16)\n",
            "Requirement already satisfied: googleapis-common-protos<2.0.0,>=1.56.2 in /usr/local/lib/python3.11/dist-packages (from google-api-core!=2.0.*,!=2.1.*,!=2.2.*,!=2.3.*,!=2.4.*,!=2.5.*,!=2.6.*,!=2.7.*,<3.0.0,>=1.34.1->google-api-core[grpc]!=2.0.*,!=2.1.*,!=2.2.*,!=2.3.*,!=2.4.*,!=2.5.*,!=2.6.*,!=2.7.*,<3.0.0,>=1.34.1->google-cloud-aiplatform) (1.70.0)\n",
            "Requirement already satisfied: requests<3.0.0,>=2.18.0 in /usr/local/lib/python3.11/dist-packages (from google-api-core!=2.0.*,!=2.1.*,!=2.2.*,!=2.3.*,!=2.4.*,!=2.5.*,!=2.6.*,!=2.7.*,<3.0.0,>=1.34.1->google-api-core[grpc]!=2.0.*,!=2.1.*,!=2.2.*,!=2.3.*,!=2.4.*,!=2.5.*,!=2.6.*,!=2.7.*,<3.0.0,>=1.34.1->google-cloud-aiplatform) (2.32.3)\n",
            "Requirement already satisfied: grpcio<2.0dev,>=1.33.2 in /usr/local/lib/python3.11/dist-packages (from google-api-core[grpc]!=2.0.*,!=2.1.*,!=2.2.*,!=2.3.*,!=2.4.*,!=2.5.*,!=2.6.*,!=2.7.*,<3.0.0,>=1.34.1->google-cloud-aiplatform) (1.71.0)\n",
            "Requirement already satisfied: grpcio-status<2.0.dev0,>=1.33.2 in /usr/local/lib/python3.11/dist-packages (from google-api-core[grpc]!=2.0.*,!=2.1.*,!=2.2.*,!=2.3.*,!=2.4.*,!=2.5.*,!=2.6.*,!=2.7.*,<3.0.0,>=1.34.1->google-cloud-aiplatform) (1.71.0)\n",
            "Requirement already satisfied: cachetools<6.0,>=2.0.0 in /usr/local/lib/python3.11/dist-packages (from google-auth<3.0.0,>=2.14.1->google-cloud-aiplatform) (5.5.2)\n",
            "Requirement already satisfied: pyasn1-modules>=0.2.1 in /usr/local/lib/python3.11/dist-packages (from google-auth<3.0.0,>=2.14.1->google-cloud-aiplatform) (0.4.2)\n",
            "Requirement already satisfied: rsa<5,>=3.1.4 in /usr/local/lib/python3.11/dist-packages (from google-auth<3.0.0,>=2.14.1->google-cloud-aiplatform) (4.9.1)\n",
            "Requirement already satisfied: google-cloud-core<3.0.0,>=2.4.1 in /usr/local/lib/python3.11/dist-packages (from google-cloud-bigquery!=3.20.0,<4.0.0,>=1.15.0->google-cloud-aiplatform) (2.4.3)\n",
            "Requirement already satisfied: google-resumable-media<3.0.0,>=2.0.0 in /usr/local/lib/python3.11/dist-packages (from google-cloud-bigquery!=3.20.0,<4.0.0,>=1.15.0->google-cloud-aiplatform) (2.7.2)\n",
            "Requirement already satisfied: python-dateutil<3.0.0,>=2.8.2 in /usr/local/lib/python3.11/dist-packages (from google-cloud-bigquery!=3.20.0,<4.0.0,>=1.15.0->google-cloud-aiplatform) (2.9.0.post0)\n",
            "Requirement already satisfied: grpc-google-iam-v1<1.0.0,>=0.14.0 in /usr/local/lib/python3.11/dist-packages (from google-cloud-resource-manager<3.0.0,>=1.3.3->google-cloud-aiplatform) (0.14.2)\n",
            "Requirement already satisfied: google-crc32c<2.0dev,>=1.0 in /usr/local/lib/python3.11/dist-packages (from google-cloud-storage<3.0.0,>=1.32.0->google-cloud-aiplatform) (1.7.1)\n",
            "Requirement already satisfied: anyio<5.0.0,>=4.8.0 in /usr/local/lib/python3.11/dist-packages (from google-genai<2.0.0,>=1.0.0->google-cloud-aiplatform) (4.9.0)\n",
            "Requirement already satisfied: httpx<1.0.0,>=0.28.1 in /usr/local/lib/python3.11/dist-packages (from google-genai<2.0.0,>=1.0.0->google-cloud-aiplatform) (0.28.1)\n",
            "Requirement already satisfied: websockets<15.1.0,>=13.0.0 in /usr/local/lib/python3.11/dist-packages (from google-genai<2.0.0,>=1.0.0->google-cloud-aiplatform) (15.0.1)\n",
            "Requirement already satisfied: annotated-types>=0.6.0 in /usr/local/lib/python3.11/dist-packages (from pydantic<3->google-cloud-aiplatform) (0.7.0)\n",
            "Requirement already satisfied: pydantic-core==2.33.2 in /usr/local/lib/python3.11/dist-packages (from pydantic<3->google-cloud-aiplatform) (2.33.2)\n",
            "Requirement already satisfied: typing-inspection>=0.4.0 in /usr/local/lib/python3.11/dist-packages (from pydantic<3->google-cloud-aiplatform) (0.4.0)\n",
            "Requirement already satisfied: numpy>=1.21 in /usr/local/lib/python3.11/dist-packages (from shapely<3.0.0->google-cloud-aiplatform) (2.0.2)\n",
            "Requirement already satisfied: idna>=2.8 in /usr/local/lib/python3.11/dist-packages (from anyio<5.0.0,>=4.8.0->google-genai<2.0.0,>=1.0.0->google-cloud-aiplatform) (3.10)\n",
            "Requirement already satisfied: sniffio>=1.1 in /usr/local/lib/python3.11/dist-packages (from anyio<5.0.0,>=4.8.0->google-genai<2.0.0,>=1.0.0->google-cloud-aiplatform) (1.3.1)\n",
            "Requirement already satisfied: certifi in /usr/local/lib/python3.11/dist-packages (from httpx<1.0.0,>=0.28.1->google-genai<2.0.0,>=1.0.0->google-cloud-aiplatform) (2025.4.26)\n",
            "Requirement already satisfied: httpcore==1.* in /usr/local/lib/python3.11/dist-packages (from httpx<1.0.0,>=0.28.1->google-genai<2.0.0,>=1.0.0->google-cloud-aiplatform) (1.0.9)\n",
            "Requirement already satisfied: h11>=0.16 in /usr/local/lib/python3.11/dist-packages (from httpcore==1.*->httpx<1.0.0,>=0.28.1->google-genai<2.0.0,>=1.0.0->google-cloud-aiplatform) (0.16.0)\n",
            "Requirement already satisfied: pyasn1<0.7.0,>=0.6.1 in /usr/local/lib/python3.11/dist-packages (from pyasn1-modules>=0.2.1->google-auth<3.0.0,>=2.14.1->google-cloud-aiplatform) (0.6.1)\n",
            "Requirement already satisfied: six>=1.5 in /usr/local/lib/python3.11/dist-packages (from python-dateutil<3.0.0,>=2.8.2->google-cloud-bigquery!=3.20.0,<4.0.0,>=1.15.0->google-cloud-aiplatform) (1.17.0)\n",
            "Requirement already satisfied: charset-normalizer<4,>=2 in /usr/local/lib/python3.11/dist-packages (from requests<3.0.0,>=2.18.0->google-api-core!=2.0.*,!=2.1.*,!=2.2.*,!=2.3.*,!=2.4.*,!=2.5.*,!=2.6.*,!=2.7.*,<3.0.0,>=1.34.1->google-api-core[grpc]!=2.0.*,!=2.1.*,!=2.2.*,!=2.3.*,!=2.4.*,!=2.5.*,!=2.6.*,!=2.7.*,<3.0.0,>=1.34.1->google-cloud-aiplatform) (3.4.2)\n",
            "Requirement already satisfied: urllib3<3,>=1.21.1 in /usr/local/lib/python3.11/dist-packages (from requests<3.0.0,>=2.18.0->google-api-core!=2.0.*,!=2.1.*,!=2.2.*,!=2.3.*,!=2.4.*,!=2.5.*,!=2.6.*,!=2.7.*,<3.0.0,>=1.34.1->google-api-core[grpc]!=2.0.*,!=2.1.*,!=2.2.*,!=2.3.*,!=2.4.*,!=2.5.*,!=2.6.*,!=2.7.*,<3.0.0,>=1.34.1->google-cloud-aiplatform) (2.4.0)\n",
            "Collecting gnews\n",
            "  Downloading gnews-0.4.1-py3-none-any.whl.metadata (19 kB)\n",
            "Collecting feedparser~=6.0.2 (from gnews)\n",
            "  Downloading feedparser-6.0.11-py3-none-any.whl.metadata (2.4 kB)\n",
            "Requirement already satisfied: beautifulsoup4<5,>=4.9.3 in /usr/local/lib/python3.11/dist-packages (from gnews) (4.13.4)\n",
            "Collecting dnspython (from gnews)\n",
            "  Downloading dnspython-2.7.0-py3-none-any.whl.metadata (5.8 kB)\n",
            "Requirement already satisfied: requests in /usr/local/lib/python3.11/dist-packages (from gnews) (2.32.3)\n",
            "Requirement already satisfied: soupsieve>1.2 in /usr/local/lib/python3.11/dist-packages (from beautifulsoup4<5,>=4.9.3->gnews) (2.7)\n",
            "Requirement already satisfied: typing-extensions>=4.0.0 in /usr/local/lib/python3.11/dist-packages (from beautifulsoup4<5,>=4.9.3->gnews) (4.13.2)\n",
            "Collecting sgmllib3k (from feedparser~=6.0.2->gnews)\n",
            "  Downloading sgmllib3k-1.0.0.tar.gz (5.8 kB)\n",
            "  Preparing metadata (setup.py) ... \u001b[?25l\u001b[?25hdone\n",
            "Requirement already satisfied: charset-normalizer<4,>=2 in /usr/local/lib/python3.11/dist-packages (from requests->gnews) (3.4.2)\n",
            "Requirement already satisfied: idna<4,>=2.5 in /usr/local/lib/python3.11/dist-packages (from requests->gnews) (3.10)\n",
            "Requirement already satisfied: urllib3<3,>=1.21.1 in /usr/local/lib/python3.11/dist-packages (from requests->gnews) (2.4.0)\n",
            "Requirement already satisfied: certifi>=2017.4.17 in /usr/local/lib/python3.11/dist-packages (from requests->gnews) (2025.4.26)\n",
            "Downloading gnews-0.4.1-py3-none-any.whl (18 kB)\n",
            "Downloading feedparser-6.0.11-py3-none-any.whl (81 kB)\n",
            "\u001b[2K   \u001b[90m━━━━━━━━━━━━━━━━━━━━━━━━━━━━━━━━━━━━━━━━\u001b[0m \u001b[32m81.3/81.3 kB\u001b[0m \u001b[31m6.7 MB/s\u001b[0m eta \u001b[36m0:00:00\u001b[0m\n",
            "\u001b[?25hDownloading dnspython-2.7.0-py3-none-any.whl (313 kB)\n",
            "\u001b[2K   \u001b[90m━━━━━━━━━━━━━━━━━━━━━━━━━━━━━━━━━━━━━━━━\u001b[0m \u001b[32m313.6/313.6 kB\u001b[0m \u001b[31m21.4 MB/s\u001b[0m eta \u001b[36m0:00:00\u001b[0m\n",
            "\u001b[?25hBuilding wheels for collected packages: sgmllib3k\n",
            "  Building wheel for sgmllib3k (setup.py) ... \u001b[?25l\u001b[?25hdone\n",
            "  Created wheel for sgmllib3k: filename=sgmllib3k-1.0.0-py3-none-any.whl size=6046 sha256=5799ed721c994139393570156b34c760128051ca798f14773aa3c11daaddd0ed\n",
            "  Stored in directory: /root/.cache/pip/wheels/3b/25/2a/105d6a15df6914f4d15047691c6c28f9052cc1173e40285d03\n",
            "Successfully built sgmllib3k\n",
            "Installing collected packages: sgmllib3k, feedparser, dnspython, gnews\n",
            "Successfully installed dnspython-2.7.0 feedparser-6.0.11 gnews-0.4.1 sgmllib3k-1.0.0\n",
            "Collecting unstructured\n",
            "  Downloading unstructured-0.17.2-py3-none-any.whl.metadata (24 kB)\n",
            "Requirement already satisfied: chardet in /usr/local/lib/python3.11/dist-packages (from unstructured) (5.2.0)\n",
            "Collecting filetype (from unstructured)\n",
            "  Downloading filetype-1.2.0-py2.py3-none-any.whl.metadata (6.5 kB)\n",
            "Collecting python-magic (from unstructured)\n",
            "  Downloading python_magic-0.4.27-py2.py3-none-any.whl.metadata (5.8 kB)\n",
            "Requirement already satisfied: lxml in /usr/local/lib/python3.11/dist-packages (from unstructured) (5.4.0)\n",
            "Requirement already satisfied: nltk in /usr/local/lib/python3.11/dist-packages (from unstructured) (3.9.1)\n",
            "Requirement already satisfied: requests in /usr/local/lib/python3.11/dist-packages (from unstructured) (2.32.3)\n",
            "Requirement already satisfied: beautifulsoup4 in /usr/local/lib/python3.11/dist-packages (from unstructured) (4.13.4)\n",
            "Collecting emoji (from unstructured)\n",
            "  Downloading emoji-2.14.1-py3-none-any.whl.metadata (5.7 kB)\n",
            "Collecting dataclasses-json (from unstructured)\n",
            "  Downloading dataclasses_json-0.6.7-py3-none-any.whl.metadata (25 kB)\n",
            "Collecting python-iso639 (from unstructured)\n",
            "  Downloading python_iso639-2025.2.18-py3-none-any.whl.metadata (14 kB)\n",
            "Collecting langdetect (from unstructured)\n",
            "  Downloading langdetect-1.0.9.tar.gz (981 kB)\n",
            "\u001b[2K     \u001b[90m━━━━━━━━━━━━━━━━━━━━━━━━━━━━━━━━━━━━━━\u001b[0m \u001b[32m981.5/981.5 kB\u001b[0m \u001b[31m25.6 MB/s\u001b[0m eta \u001b[36m0:00:00\u001b[0m\n",
            "\u001b[?25h  Preparing metadata (setup.py) ... \u001b[?25l\u001b[?25hdone\n",
            "Requirement already satisfied: numpy in /usr/local/lib/python3.11/dist-packages (from unstructured) (2.0.2)\n",
            "Collecting rapidfuzz (from unstructured)\n",
            "  Downloading rapidfuzz-3.13.0-cp311-cp311-manylinux_2_17_x86_64.manylinux2014_x86_64.whl.metadata (12 kB)\n",
            "Collecting backoff (from unstructured)\n",
            "  Downloading backoff-2.2.1-py3-none-any.whl.metadata (14 kB)\n",
            "Requirement already satisfied: typing-extensions in /usr/local/lib/python3.11/dist-packages (from unstructured) (4.13.2)\n",
            "Collecting unstructured-client (from unstructured)\n",
            "  Downloading unstructured_client-0.34.0-py3-none-any.whl.metadata (21 kB)\n",
            "Requirement already satisfied: wrapt in /usr/local/lib/python3.11/dist-packages (from unstructured) (1.17.2)\n",
            "Requirement already satisfied: tqdm in /usr/local/lib/python3.11/dist-packages (from unstructured) (4.67.1)\n",
            "Requirement already satisfied: psutil in /usr/local/lib/python3.11/dist-packages (from unstructured) (5.9.5)\n",
            "Collecting python-oxmsg (from unstructured)\n",
            "  Downloading python_oxmsg-0.0.2-py3-none-any.whl.metadata (5.0 kB)\n",
            "Requirement already satisfied: html5lib in /usr/local/lib/python3.11/dist-packages (from unstructured) (1.1)\n",
            "Requirement already satisfied: soupsieve>1.2 in /usr/local/lib/python3.11/dist-packages (from beautifulsoup4->unstructured) (2.7)\n",
            "Collecting marshmallow<4.0.0,>=3.18.0 (from dataclasses-json->unstructured)\n",
            "  Downloading marshmallow-3.26.1-py3-none-any.whl.metadata (7.3 kB)\n",
            "Collecting typing-inspect<1,>=0.4.0 (from dataclasses-json->unstructured)\n",
            "  Downloading typing_inspect-0.9.0-py3-none-any.whl.metadata (1.5 kB)\n",
            "Requirement already satisfied: six>=1.9 in /usr/local/lib/python3.11/dist-packages (from html5lib->unstructured) (1.17.0)\n",
            "Requirement already satisfied: webencodings in /usr/local/lib/python3.11/dist-packages (from html5lib->unstructured) (0.5.1)\n",
            "Requirement already satisfied: click in /usr/local/lib/python3.11/dist-packages (from nltk->unstructured) (8.1.8)\n",
            "Requirement already satisfied: joblib in /usr/local/lib/python3.11/dist-packages (from nltk->unstructured) (1.5.0)\n",
            "Requirement already satisfied: regex>=2021.8.3 in /usr/local/lib/python3.11/dist-packages (from nltk->unstructured) (2024.11.6)\n",
            "Collecting olefile (from python-oxmsg->unstructured)\n",
            "  Downloading olefile-0.47-py2.py3-none-any.whl.metadata (9.7 kB)\n",
            "Requirement already satisfied: charset-normalizer<4,>=2 in /usr/local/lib/python3.11/dist-packages (from requests->unstructured) (3.4.2)\n",
            "Requirement already satisfied: idna<4,>=2.5 in /usr/local/lib/python3.11/dist-packages (from requests->unstructured) (3.10)\n",
            "Requirement already satisfied: urllib3<3,>=1.21.1 in /usr/local/lib/python3.11/dist-packages (from requests->unstructured) (2.4.0)\n",
            "Requirement already satisfied: certifi>=2017.4.17 in /usr/local/lib/python3.11/dist-packages (from requests->unstructured) (2025.4.26)\n",
            "Collecting aiofiles>=24.1.0 (from unstructured-client->unstructured)\n",
            "  Downloading aiofiles-24.1.0-py3-none-any.whl.metadata (10 kB)\n",
            "Requirement already satisfied: cryptography>=3.1 in /usr/local/lib/python3.11/dist-packages (from unstructured-client->unstructured) (43.0.3)\n",
            "Collecting eval-type-backport>=0.2.0 (from unstructured-client->unstructured)\n",
            "  Downloading eval_type_backport-0.2.2-py3-none-any.whl.metadata (2.2 kB)\n",
            "Requirement already satisfied: httpx>=0.27.0 in /usr/local/lib/python3.11/dist-packages (from unstructured-client->unstructured) (0.28.1)\n",
            "Requirement already satisfied: nest-asyncio>=1.6.0 in /usr/local/lib/python3.11/dist-packages (from unstructured-client->unstructured) (1.6.0)\n",
            "Requirement already satisfied: pydantic>=2.11.2 in /usr/local/lib/python3.11/dist-packages (from unstructured-client->unstructured) (2.11.4)\n",
            "Collecting pypdf>=4.0 (from unstructured-client->unstructured)\n",
            "  Downloading pypdf-5.5.0-py3-none-any.whl.metadata (7.2 kB)\n",
            "Requirement already satisfied: requests-toolbelt>=1.0.0 in /usr/local/lib/python3.11/dist-packages (from unstructured-client->unstructured) (1.0.0)\n",
            "Requirement already satisfied: typing-inspection>=0.4.0 in /usr/local/lib/python3.11/dist-packages (from unstructured-client->unstructured) (0.4.0)\n",
            "Requirement already satisfied: cffi>=1.12 in /usr/local/lib/python3.11/dist-packages (from cryptography>=3.1->unstructured-client->unstructured) (1.17.1)\n",
            "Requirement already satisfied: anyio in /usr/local/lib/python3.11/dist-packages (from httpx>=0.27.0->unstructured-client->unstructured) (4.9.0)\n",
            "Requirement already satisfied: httpcore==1.* in /usr/local/lib/python3.11/dist-packages (from httpx>=0.27.0->unstructured-client->unstructured) (1.0.9)\n",
            "Requirement already satisfied: h11>=0.16 in /usr/local/lib/python3.11/dist-packages (from httpcore==1.*->httpx>=0.27.0->unstructured-client->unstructured) (0.16.0)\n",
            "Requirement already satisfied: packaging>=17.0 in /usr/local/lib/python3.11/dist-packages (from marshmallow<4.0.0,>=3.18.0->dataclasses-json->unstructured) (24.2)\n",
            "Requirement already satisfied: annotated-types>=0.6.0 in /usr/local/lib/python3.11/dist-packages (from pydantic>=2.11.2->unstructured-client->unstructured) (0.7.0)\n",
            "Requirement already satisfied: pydantic-core==2.33.2 in /usr/local/lib/python3.11/dist-packages (from pydantic>=2.11.2->unstructured-client->unstructured) (2.33.2)\n",
            "Collecting mypy-extensions>=0.3.0 (from typing-inspect<1,>=0.4.0->dataclasses-json->unstructured)\n",
            "  Downloading mypy_extensions-1.1.0-py3-none-any.whl.metadata (1.1 kB)\n",
            "Requirement already satisfied: pycparser in /usr/local/lib/python3.11/dist-packages (from cffi>=1.12->cryptography>=3.1->unstructured-client->unstructured) (2.22)\n",
            "Requirement already satisfied: sniffio>=1.1 in /usr/local/lib/python3.11/dist-packages (from anyio->httpx>=0.27.0->unstructured-client->unstructured) (1.3.1)\n",
            "Downloading unstructured-0.17.2-py3-none-any.whl (1.8 MB)\n",
            "\u001b[2K   \u001b[90m━━━━━━━━━━━━━━━━━━━━━━━━━━━━━━━━━━━━━━━━\u001b[0m \u001b[32m1.8/1.8 MB\u001b[0m \u001b[31m84.9 MB/s\u001b[0m eta \u001b[36m0:00:00\u001b[0m\n",
            "\u001b[?25hDownloading backoff-2.2.1-py3-none-any.whl (15 kB)\n",
            "Downloading dataclasses_json-0.6.7-py3-none-any.whl (28 kB)\n",
            "Downloading emoji-2.14.1-py3-none-any.whl (590 kB)\n",
            "\u001b[2K   \u001b[90m━━━━━━━━━━━━━━━━━━━━━━━━━━━━━━━━━━━━━━━━\u001b[0m \u001b[32m590.6/590.6 kB\u001b[0m \u001b[31m51.6 MB/s\u001b[0m eta \u001b[36m0:00:00\u001b[0m\n",
            "\u001b[?25hDownloading filetype-1.2.0-py2.py3-none-any.whl (19 kB)\n",
            "Downloading python_iso639-2025.2.18-py3-none-any.whl (167 kB)\n",
            "\u001b[2K   \u001b[90m━━━━━━━━━━━━━━━━━━━━━━━━━━━━━━━━━━━━━━━━\u001b[0m \u001b[32m167.6/167.6 kB\u001b[0m \u001b[31m18.6 MB/s\u001b[0m eta \u001b[36m0:00:00\u001b[0m\n",
            "\u001b[?25hDownloading python_magic-0.4.27-py2.py3-none-any.whl (13 kB)\n",
            "Downloading python_oxmsg-0.0.2-py3-none-any.whl (31 kB)\n",
            "Downloading rapidfuzz-3.13.0-cp311-cp311-manylinux_2_17_x86_64.manylinux2014_x86_64.whl (3.1 MB)\n",
            "\u001b[2K   \u001b[90m━━━━━━━━━━━━━━━━━━━━━━━━━━━━━━━━━━━━━━━━\u001b[0m \u001b[32m3.1/3.1 MB\u001b[0m \u001b[31m110.0 MB/s\u001b[0m eta \u001b[36m0:00:00\u001b[0m\n",
            "\u001b[?25hDownloading unstructured_client-0.34.0-py3-none-any.whl (189 kB)\n",
            "\u001b[2K   \u001b[90m━━━━━━━━━━━━━━━━━━━━━━━━━━━━━━━━━━━━━━━━\u001b[0m \u001b[32m189.4/189.4 kB\u001b[0m \u001b[31m20.0 MB/s\u001b[0m eta \u001b[36m0:00:00\u001b[0m\n",
            "\u001b[?25hDownloading aiofiles-24.1.0-py3-none-any.whl (15 kB)\n",
            "Downloading eval_type_backport-0.2.2-py3-none-any.whl (5.8 kB)\n",
            "Downloading marshmallow-3.26.1-py3-none-any.whl (50 kB)\n",
            "\u001b[2K   \u001b[90m━━━━━━━━━━━━━━━━━━━━━━━━━━━━━━━━━━━━━━━━\u001b[0m \u001b[32m50.9/50.9 kB\u001b[0m \u001b[31m4.4 MB/s\u001b[0m eta \u001b[36m0:00:00\u001b[0m\n",
            "\u001b[?25hDownloading pypdf-5.5.0-py3-none-any.whl (303 kB)\n",
            "\u001b[2K   \u001b[90m━━━━━━━━━━━━━━━━━━━━━━━━━━━━━━━━━━━━━━━━\u001b[0m \u001b[32m303.4/303.4 kB\u001b[0m \u001b[31m31.1 MB/s\u001b[0m eta \u001b[36m0:00:00\u001b[0m\n",
            "\u001b[?25hDownloading typing_inspect-0.9.0-py3-none-any.whl (8.8 kB)\n",
            "Downloading olefile-0.47-py2.py3-none-any.whl (114 kB)\n",
            "\u001b[2K   \u001b[90m━━━━━━━━━━━━━━━━━━━━━━━━━━━━━━━━━━━━━━━━\u001b[0m \u001b[32m114.6/114.6 kB\u001b[0m \u001b[31m13.0 MB/s\u001b[0m eta \u001b[36m0:00:00\u001b[0m\n",
            "\u001b[?25hDownloading mypy_extensions-1.1.0-py3-none-any.whl (5.0 kB)\n",
            "Building wheels for collected packages: langdetect\n",
            "  Building wheel for langdetect (setup.py) ... \u001b[?25l\u001b[?25hdone\n",
            "  Created wheel for langdetect: filename=langdetect-1.0.9-py3-none-any.whl size=993223 sha256=3b0cdf1bfe8066f486b1827c76394d7fb90cb6e6746f9b5fc6c556668fe6018e\n",
            "  Stored in directory: /root/.cache/pip/wheels/0a/f2/b2/e5ca405801e05eb7c8ed5b3b4bcf1fcabcd6272c167640072e\n",
            "Successfully built langdetect\n",
            "Installing collected packages: filetype, rapidfuzz, python-magic, python-iso639, pypdf, olefile, mypy-extensions, marshmallow, langdetect, eval-type-backport, emoji, backoff, aiofiles, typing-inspect, python-oxmsg, unstructured-client, dataclasses-json, unstructured\n",
            "Successfully installed aiofiles-24.1.0 backoff-2.2.1 dataclasses-json-0.6.7 emoji-2.14.1 eval-type-backport-0.2.2 filetype-1.2.0 langdetect-1.0.9 marshmallow-3.26.1 mypy-extensions-1.1.0 olefile-0.47 pypdf-5.5.0 python-iso639-2025.2.18 python-magic-0.4.27 python-oxmsg-0.0.2 rapidfuzz-3.13.0 typing-inspect-0.9.0 unstructured-0.17.2 unstructured-client-0.34.0\n"
          ]
        }
      ]
    },
    {
      "cell_type": "code",
      "source": [
        "# restart kernel after installs so that your environment can access the new packages\n",
        "import IPython\n",
        "\n",
        "app = IPython.Application.instance()\n",
        "app.kernel.do_shutdown(True)"
      ],
      "metadata": {
        "colab": {
          "base_uri": "https://localhost:8080/"
        },
        "id": "11c721ZDoqYD",
        "outputId": "90c3243a-4083-4a81-fb32-a22d94e21db7"
      },
      "execution_count": 2,
      "outputs": [
        {
          "output_type": "execute_result",
          "data": {
            "text/plain": [
              "{'status': 'ok', 'restart': True}"
            ]
          },
          "metadata": {},
          "execution_count": 2
        }
      ]
    },
    {
      "cell_type": "code",
      "source": [
        "# import required packages\n",
        "from langchain.chains.summarize import load_summarize_chain\n",
        "from langchain.prompts import PromptTemplate\n",
        "from langchain.document_loaders import UnstructuredURLLoader\n"
      ],
      "metadata": {
        "id": "RJYjw061IVML"
      },
      "execution_count": 9,
      "outputs": []
    },
    {
      "cell_type": "code",
      "source": [
        "# authenticate to google cloud account\n",
        "from google.colab import auth as google_auth\n",
        "google_auth.authenticate_user()"
      ],
      "metadata": {
        "id": "jKhQPmtAA4gt"
      },
      "execution_count": null,
      "outputs": []
    },
    {
      "cell_type": "code",
      "source": [
        "#google cloud project name\n",
        "#replace with your project name\n",
        "\n",
        "import vertexai\n",
        "\n",
        "PROJECT_ID = \"my-project-id\"  # @param {type:\"string\"}\n",
        "vertexai.init(project=PROJECT_ID, location=\"us-central1\")"
      ],
      "metadata": {
        "id": "dgJ7YVmGA03r"
      },
      "execution_count": null,
      "outputs": []
    },
    {
      "cell_type": "markdown",
      "source": [
        "## Calling GNews API to Get News Metadata\n",
        "Limit news period using the following time operators:\n",
        " - h = hours (eg: 12h)\n",
        " - d = days (eg: 7d)\n",
        " - m = months (eg: 6m)\n",
        " - y = years (eg: 1y)\n",
        "\n",
        "Example:\n",
        "\n",
        "`google_news.period = '3d'  # News from last 3 days `"
      ],
      "metadata": {
        "id": "kaq1BbI2KuYK"
      }
    },
    {
      "cell_type": "code",
      "source": [
        "!pip install langchain_community\n",
        "\n",
        "from gnews import GNews\n",
        "\n",
        "google_news = GNews()\n",
        "google_news.period = '1d'  # News from last 1 day\n",
        "google_news.max_results = 5  # number of responses across a keyword\n",
        "google_news.country = 'PK'  # News from a specific country = Indonesia\n",
        "google_news.language = 'en'  # News in a specific language = Bahasa Indonesia\n",
        "google_news.exclude_websites = ['yahoo.com', 'cnn.com', 'msn.con']  # Exclude news from specific website i.e Yahoo.com and msn.com\n",
        "\n",
        "#use date range if required\n",
        "#google_news.start_date = (2023, 1, 1) # Search from 1st Jan 2023\n",
        "#google_news.end_date = (2023, 4, 1) # Search until 1st April 2023\n",
        "\n",
        "#get by keyword\n",
        "news_by_keyword = google_news.get_news('Politics')"
      ],
      "metadata": {
        "id": "3iq1o4rqpdMF",
        "outputId": "e8b74eaf-57b2-40a2-b5a1-62b67299f709",
        "colab": {
          "base_uri": "https://localhost:8080/"
        }
      },
      "execution_count": 2,
      "outputs": [
        {
          "output_type": "stream",
          "name": "stdout",
          "text": [
            "Collecting langchain_community\n",
            "  Downloading langchain_community-0.3.24-py3-none-any.whl.metadata (2.5 kB)\n",
            "Requirement already satisfied: langchain-core<1.0.0,>=0.3.59 in /usr/local/lib/python3.11/dist-packages (from langchain_community) (0.3.59)\n",
            "Requirement already satisfied: langchain<1.0.0,>=0.3.25 in /usr/local/lib/python3.11/dist-packages (from langchain_community) (0.3.25)\n",
            "Requirement already satisfied: SQLAlchemy<3,>=1.4 in /usr/local/lib/python3.11/dist-packages (from langchain_community) (2.0.40)\n",
            "Requirement already satisfied: requests<3,>=2 in /usr/local/lib/python3.11/dist-packages (from langchain_community) (2.32.3)\n",
            "Requirement already satisfied: PyYAML>=5.3 in /usr/local/lib/python3.11/dist-packages (from langchain_community) (6.0.2)\n",
            "Requirement already satisfied: aiohttp<4.0.0,>=3.8.3 in /usr/local/lib/python3.11/dist-packages (from langchain_community) (3.11.15)\n",
            "Requirement already satisfied: tenacity!=8.4.0,<10,>=8.1.0 in /usr/local/lib/python3.11/dist-packages (from langchain_community) (9.1.2)\n",
            "Requirement already satisfied: dataclasses-json<0.7,>=0.5.7 in /usr/local/lib/python3.11/dist-packages (from langchain_community) (0.6.7)\n",
            "Collecting pydantic-settings<3.0.0,>=2.4.0 (from langchain_community)\n",
            "  Downloading pydantic_settings-2.9.1-py3-none-any.whl.metadata (3.8 kB)\n",
            "Requirement already satisfied: langsmith<0.4,>=0.1.125 in /usr/local/lib/python3.11/dist-packages (from langchain_community) (0.3.42)\n",
            "Collecting httpx-sse<1.0.0,>=0.4.0 (from langchain_community)\n",
            "  Downloading httpx_sse-0.4.0-py3-none-any.whl.metadata (9.0 kB)\n",
            "Requirement already satisfied: numpy>=1.26.2 in /usr/local/lib/python3.11/dist-packages (from langchain_community) (2.0.2)\n",
            "Requirement already satisfied: aiohappyeyeballs>=2.3.0 in /usr/local/lib/python3.11/dist-packages (from aiohttp<4.0.0,>=3.8.3->langchain_community) (2.6.1)\n",
            "Requirement already satisfied: aiosignal>=1.1.2 in /usr/local/lib/python3.11/dist-packages (from aiohttp<4.0.0,>=3.8.3->langchain_community) (1.3.2)\n",
            "Requirement already satisfied: attrs>=17.3.0 in /usr/local/lib/python3.11/dist-packages (from aiohttp<4.0.0,>=3.8.3->langchain_community) (25.3.0)\n",
            "Requirement already satisfied: frozenlist>=1.1.1 in /usr/local/lib/python3.11/dist-packages (from aiohttp<4.0.0,>=3.8.3->langchain_community) (1.6.0)\n",
            "Requirement already satisfied: multidict<7.0,>=4.5 in /usr/local/lib/python3.11/dist-packages (from aiohttp<4.0.0,>=3.8.3->langchain_community) (6.4.3)\n",
            "Requirement already satisfied: propcache>=0.2.0 in /usr/local/lib/python3.11/dist-packages (from aiohttp<4.0.0,>=3.8.3->langchain_community) (0.3.1)\n",
            "Requirement already satisfied: yarl<2.0,>=1.17.0 in /usr/local/lib/python3.11/dist-packages (from aiohttp<4.0.0,>=3.8.3->langchain_community) (1.20.0)\n",
            "Requirement already satisfied: marshmallow<4.0.0,>=3.18.0 in /usr/local/lib/python3.11/dist-packages (from dataclasses-json<0.7,>=0.5.7->langchain_community) (3.26.1)\n",
            "Requirement already satisfied: typing-inspect<1,>=0.4.0 in /usr/local/lib/python3.11/dist-packages (from dataclasses-json<0.7,>=0.5.7->langchain_community) (0.9.0)\n",
            "Requirement already satisfied: langchain-text-splitters<1.0.0,>=0.3.8 in /usr/local/lib/python3.11/dist-packages (from langchain<1.0.0,>=0.3.25->langchain_community) (0.3.8)\n",
            "Requirement already satisfied: pydantic<3.0.0,>=2.7.4 in /usr/local/lib/python3.11/dist-packages (from langchain<1.0.0,>=0.3.25->langchain_community) (2.11.4)\n",
            "Requirement already satisfied: jsonpatch<2.0,>=1.33 in /usr/local/lib/python3.11/dist-packages (from langchain-core<1.0.0,>=0.3.59->langchain_community) (1.33)\n",
            "Requirement already satisfied: packaging<25,>=23.2 in /usr/local/lib/python3.11/dist-packages (from langchain-core<1.0.0,>=0.3.59->langchain_community) (24.2)\n",
            "Requirement already satisfied: typing-extensions>=4.7 in /usr/local/lib/python3.11/dist-packages (from langchain-core<1.0.0,>=0.3.59->langchain_community) (4.13.2)\n",
            "Requirement already satisfied: httpx<1,>=0.23.0 in /usr/local/lib/python3.11/dist-packages (from langsmith<0.4,>=0.1.125->langchain_community) (0.28.1)\n",
            "Requirement already satisfied: orjson<4.0.0,>=3.9.14 in /usr/local/lib/python3.11/dist-packages (from langsmith<0.4,>=0.1.125->langchain_community) (3.10.18)\n",
            "Requirement already satisfied: requests-toolbelt<2.0.0,>=1.0.0 in /usr/local/lib/python3.11/dist-packages (from langsmith<0.4,>=0.1.125->langchain_community) (1.0.0)\n",
            "Requirement already satisfied: zstandard<0.24.0,>=0.23.0 in /usr/local/lib/python3.11/dist-packages (from langsmith<0.4,>=0.1.125->langchain_community) (0.23.0)\n",
            "Collecting python-dotenv>=0.21.0 (from pydantic-settings<3.0.0,>=2.4.0->langchain_community)\n",
            "  Downloading python_dotenv-1.1.0-py3-none-any.whl.metadata (24 kB)\n",
            "Requirement already satisfied: typing-inspection>=0.4.0 in /usr/local/lib/python3.11/dist-packages (from pydantic-settings<3.0.0,>=2.4.0->langchain_community) (0.4.0)\n",
            "Requirement already satisfied: charset-normalizer<4,>=2 in /usr/local/lib/python3.11/dist-packages (from requests<3,>=2->langchain_community) (3.4.2)\n",
            "Requirement already satisfied: idna<4,>=2.5 in /usr/local/lib/python3.11/dist-packages (from requests<3,>=2->langchain_community) (3.10)\n",
            "Requirement already satisfied: urllib3<3,>=1.21.1 in /usr/local/lib/python3.11/dist-packages (from requests<3,>=2->langchain_community) (2.4.0)\n",
            "Requirement already satisfied: certifi>=2017.4.17 in /usr/local/lib/python3.11/dist-packages (from requests<3,>=2->langchain_community) (2025.4.26)\n",
            "Requirement already satisfied: greenlet>=1 in /usr/local/lib/python3.11/dist-packages (from SQLAlchemy<3,>=1.4->langchain_community) (3.2.1)\n",
            "Requirement already satisfied: anyio in /usr/local/lib/python3.11/dist-packages (from httpx<1,>=0.23.0->langsmith<0.4,>=0.1.125->langchain_community) (4.9.0)\n",
            "Requirement already satisfied: httpcore==1.* in /usr/local/lib/python3.11/dist-packages (from httpx<1,>=0.23.0->langsmith<0.4,>=0.1.125->langchain_community) (1.0.9)\n",
            "Requirement already satisfied: h11>=0.16 in /usr/local/lib/python3.11/dist-packages (from httpcore==1.*->httpx<1,>=0.23.0->langsmith<0.4,>=0.1.125->langchain_community) (0.16.0)\n",
            "Requirement already satisfied: jsonpointer>=1.9 in /usr/local/lib/python3.11/dist-packages (from jsonpatch<2.0,>=1.33->langchain-core<1.0.0,>=0.3.59->langchain_community) (3.0.0)\n",
            "Requirement already satisfied: annotated-types>=0.6.0 in /usr/local/lib/python3.11/dist-packages (from pydantic<3.0.0,>=2.7.4->langchain<1.0.0,>=0.3.25->langchain_community) (0.7.0)\n",
            "Requirement already satisfied: pydantic-core==2.33.2 in /usr/local/lib/python3.11/dist-packages (from pydantic<3.0.0,>=2.7.4->langchain<1.0.0,>=0.3.25->langchain_community) (2.33.2)\n",
            "Requirement already satisfied: mypy-extensions>=0.3.0 in /usr/local/lib/python3.11/dist-packages (from typing-inspect<1,>=0.4.0->dataclasses-json<0.7,>=0.5.7->langchain_community) (1.1.0)\n",
            "Requirement already satisfied: sniffio>=1.1 in /usr/local/lib/python3.11/dist-packages (from anyio->httpx<1,>=0.23.0->langsmith<0.4,>=0.1.125->langchain_community) (1.3.1)\n",
            "Downloading langchain_community-0.3.24-py3-none-any.whl (2.5 MB)\n",
            "\u001b[2K   \u001b[90m━━━━━━━━━━━━━━━━━━━━━━━━━━━━━━━━━━━━━━━━\u001b[0m \u001b[32m2.5/2.5 MB\u001b[0m \u001b[31m49.1 MB/s\u001b[0m eta \u001b[36m0:00:00\u001b[0m\n",
            "\u001b[?25hDownloading httpx_sse-0.4.0-py3-none-any.whl (7.8 kB)\n",
            "Downloading pydantic_settings-2.9.1-py3-none-any.whl (44 kB)\n",
            "\u001b[2K   \u001b[90m━━━━━━━━━━━━━━━━━━━━━━━━━━━━━━━━━━━━━━━━\u001b[0m \u001b[32m44.4/44.4 kB\u001b[0m \u001b[31m4.6 MB/s\u001b[0m eta \u001b[36m0:00:00\u001b[0m\n",
            "\u001b[?25hDownloading python_dotenv-1.1.0-py3-none-any.whl (20 kB)\n",
            "Installing collected packages: python-dotenv, httpx-sse, pydantic-settings, langchain_community\n",
            "Successfully installed httpx-sse-0.4.0 langchain_community-0.3.24 pydantic-settings-2.9.1 python-dotenv-1.1.0\n"
          ]
        }
      ]
    },
    {
      "cell_type": "code",
      "source": [
        "#check collected news metadata\n",
        "news_by_keyword"
      ],
      "metadata": {
        "colab": {
          "base_uri": "https://localhost:8080/"
        },
        "id": "kBHnKvXxp3ZA",
        "outputId": "a8f77f04-5213-4d58-a4f6-cae124d85846"
      },
      "execution_count": 3,
      "outputs": [
        {
          "output_type": "execute_result",
          "data": {
            "text/plain": [
              "[{'title': 'Kashmir conflict: how it impacts Indian, Pakistani politics - DW',\n",
              "  'description': 'Kashmir conflict: how it impacts Indian, Pakistani politics  DW',\n",
              "  'published date': 'Mon, 12 May 2025 15:49:47 GMT',\n",
              "  'url': 'https://news.google.com/rss/articles/CBMilAFBVV95cUxOT3FacllRREdvOE5hQWJiLVVtWDdQcjVEczI0WDY2T3FoZEJIbnZYdkoycms5dHZXX3ZiMHBRQVI1M1FYblY1Tlh3RldpcDIza0N1VXZ0REwwVzR1YnN3RTZ0eFFDTGtiYW9HdzdvMlFwdXV5clItQzFLWGhGbDFycVhCWXB5ZGxNZWJmQjdkcUI2SEYt0gGUAUFVX3lxTFBuamFWTXJVQVpKa3czTVNtS0JWWXc2a0kzR3lVRDJRb1kzR3h5emZWYjZibWNQalhILXFFOXZqejBYemFnanZCWFAwWG5VSUlXOGRlc29MRktBLWxqZVdna041dl8zUkJtSFFxUVlFTWZLRGJPbHpIZ1NUempUc0hVbXZFVWJrbWdVelFueFlfdENiUEI?oc=5&hl=en-US&gl=US&ceid=US:en',\n",
              "  'publisher': {'href': 'https://www.dw.com', 'title': 'DW'}},\n",
              " {'title': 'Current State of Politics in Albania and the Upcoming 2025 General Elections - New Lines Institute',\n",
              "  'description': 'Current State of Politics in Albania and the Upcoming 2025 General Elections  New Lines Institute',\n",
              "  'published date': 'Mon, 12 May 2025 18:45:00 GMT',\n",
              "  'url': 'https://news.google.com/rss/articles/CBMiwwFBVV95cUxNWFBDMmo2cGZmR0VXSmNRR3dDazRTS0dCQkNnZlBhWU4yU0RVbXNUV0NQNTRINk9DLVhhTEN1czN6LTEyMGRfRWt2WGtfd0V3NWZ0Z2xBM2FkeG52NTEtUXRsWTJjR3lRbmRhMHN3LUwxVEl6WWRKZVVVZV8yWXZqSHkyN2VkTlBVVzQ4YUZpamk3VGhHNElhcXZLQmc3WXNtMkxGMkw4VFMxUzJPejhyMVd0aExKU1FZYlY3aTFqVEZtV0U?oc=5&hl=en-US&gl=US&ceid=US:en',\n",
              "  'publisher': {'href': 'https://newlinesinstitute.org',\n",
              "   'title': 'New Lines Institute'}},\n",
              " {'title': 'Philippines election: Who is Sara Duterte? - BBC',\n",
              "  'description': 'Philippines election: Who is Sara Duterte?  BBC',\n",
              "  'published date': 'Mon, 12 May 2025 15:15:44 GMT',\n",
              "  'url': 'https://news.google.com/rss/articles/CBMiWkFVX3lxTE5Bb1lIcUdMdWNUNVlnSzRMMmc3bUhPdUpkbHZGd0hyOVpkQU9RNDZGZWRYWmp1aDdRSkh4T1RRZzNkVHpPbTNFUGtLZHB4cVIyV2xoSWhRTFZiQdIBX0FVX3lxTE52X29jeDFEbXlURTZZQW9nY3hZM0g5SmFFVnZodVpVdWdYbnRUSFVIdXFIekVlZFc4T1JIU0tlNWg1bzhzT21TQTFONUpDS0dKVXphcy1JQ3pqeDhqRkx3?oc=5&hl=en-US&gl=US&ceid=US:en',\n",
              "  'publisher': {'href': 'https://www.bbc.com', 'title': 'BBC'}},\n",
              " {'title': \"From AI to weapons, Trump's Gulf visit looks to swap politics for business - Middle East Eye\",\n",
              "  'description': \"From AI to weapons, Trump's Gulf visit looks to swap politics for business  Middle East Eye\",\n",
              "  'published date': 'Mon, 12 May 2025 20:57:30 GMT',\n",
              "  'url': 'https://news.google.com/rss/articles/CBMilwFBVV95cUxQNW5JQlZBWlNmZlFVUkVFNHVRc0I0VDFTaGFXLXZLTFZlNThkOXY3cDRiMXd6Q2t5MExlb0xfSWw4MzRoRy1yMVBaZFFLMVVsaHZadFkyazZCMWd4MzhfUlhHZGp0YlFvNzFvenJBa21sdFJlLUhCX2R2T19ZYzBIUTJUWWMxR0VMMUhVeW43dlBaZFlBLTBR?oc=5&hl=en-US&gl=US&ceid=US:en',\n",
              "  'publisher': {'href': 'https://www.middleeasteye.net',\n",
              "   'title': 'Middle East Eye'}},\n",
              " {'title': 'Devex Newswire: Bill Gates takes a big risk on money and politics - Devex',\n",
              "  'description': 'Devex Newswire: Bill Gates takes a big risk on money and politics  Devex',\n",
              "  'published date': 'Mon, 12 May 2025 11:11:35 GMT',\n",
              "  'url': 'https://news.google.com/rss/articles/CBMinwFBVV95cUxNQ2l5RlZHZzlQajhLUnVzTVBwQVJsWm9JdGE3bEd4aXZCcDNYcmZ0WDUwVEhMcENTend3M2poVjdTbEtEVE9oRHFOdWpNMjBRemRKazZiSTlxSlZqYVQ3cXpyQTJiX251NzZHeFJKSURUZFVqcVVTcWdKbS1iVHlxaDAxMkJWQ3JhX3BpOTBicG9BTnV4MmR3azVlMzJpU28?oc=5&hl=en-US&gl=US&ceid=US:en',\n",
              "  'publisher': {'href': 'https://www.devex.com', 'title': 'Devex'}}]"
            ]
          },
          "metadata": {},
          "execution_count": 3
        }
      ]
    },
    {
      "cell_type": "code",
      "source": [
        "#test another method\n",
        "#instead of search by keyword, let's retrieve top news from google-news\n",
        "\n",
        "#get top news from the last 7 days\n",
        "google_news = GNews(language='id', country='ID', period='7d',\n",
        "                    start_date=None, end_date=None, max_results=10)\n",
        "top_news = google_news.get_top_news()\n",
        "\n",
        "#check collected news metadata\n",
        "top_news"
      ],
      "metadata": {
        "colab": {
          "base_uri": "https://localhost:8080/"
        },
        "id": "1q-Oc_ds8A3I",
        "outputId": "3d96d4a6-cfa4-4ae9-c02a-7f0af2842a6b"
      },
      "execution_count": null,
      "outputs": [
        {
          "output_type": "execute_result",
          "data": {
            "text/plain": [
              "[{'title': 'Putra Megawati Sopiri Ganjar dan Rombongan Melaju di Atas Karpet Merah Rakernas IV PDI-P - Kompas.com - Nasional Kompas.com',\n",
              "  'description': 'Putra Megawati Sopiri Ganjar dan Rombongan Melaju di Atas Karpet Merah Rakernas IV PDI-P - Kompas.com  Nasional Kompas.comEffendi Gazali: Ganjar Berhasil Jadi Bintang Rakernas PDIP | Kanal Pemilu Tepercaya  CNN IndonesiaPuan Maharani Heran Minimnya Tepuk Tangan di Rakernas PDIP: Kayak Nonton Wayang  Nasional TempoMomen Ganjar dan Jokowi Gandeng Megawati di Rakernas, PDI-P: Jauhkan Berbagai Spekulasi - Kompas.com  Nasional Kompas.comPakar Sebut Jokowi Sudah Bayangkan Ganjar Dilantik Jadi Presiden RI  detikNewsLihat Liputan Lengkap di Google Berita',\n",
              "  'published date': 'Sat, 30 Sep 2023 10:31:00 GMT',\n",
              "  'url': 'https://news.google.com/rss/articles/CBMie2h0dHBzOi8vbmFzaW9uYWwua29tcGFzLmNvbS9yZWFkLzIwMjMvMDkvMzAvMTczMTU5MDEvcHV0cmEtbWVnYXdhdGktc29waXJpLWdhbmphci1kYW4tcm9tYm9uZ2FuLW1lbGFqdS1kaS1hdGFzLWthcnBldC1tZXJhaNIBf2h0dHBzOi8vYW1wLmtvbXBhcy5jb20vbmFzaW9uYWwvcmVhZC8yMDIzLzA5LzMwLzE3MzE1OTAxL3B1dHJhLW1lZ2F3YXRpLXNvcGlyaS1nYW5qYXItZGFuLXJvbWJvbmdhbi1tZWxhanUtZGktYXRhcy1rYXJwZXQtbWVyYWg?oc=5&hl=en-US&gl=US&ceid=US:en',\n",
              "  'publisher': {'href': 'https://nasional.kompas.com',\n",
              "   'title': 'Nasional Kompas.com'}},\n",
              " {'title': 'Teka-teki Siapa Coba Musnahkan Bukti Saat KPK Geledah Kementan - detikNews',\n",
              "  'description': 'Teka-teki Siapa Coba Musnahkan Bukti Saat KPK Geledah Kementan  detikNewsKasus Korupsi Kementan, Tim Penyidik Sudah Kantongi Nama-Nama Tersangka?  KOMPASTVPolda Metro Jaya Koordinasi dengan Baintelkam Polri Cek Legalitas 12 Senjata Api di Rumdin Mentan  Tribunnews.comMomen Mentan di Spanyol Saat Rumah Dinas & Kantor Digeledah KPK  detikFinanceSita 12 Senjata Api dari Rumah Mentan Syahrul Yasin Limpo, Begini Kata Polisi  KOMPASTVLihat Liputan Lengkap di Google Berita',\n",
              "  'published date': 'Sun, 01 Oct 2023 00:01:00 GMT',\n",
              "  'url': 'https://news.google.com/rss/articles/CBMiZmh0dHBzOi8vbmV3cy5kZXRpay5jb20vYmVyaXRhL2QtNjk1ODc5NC90ZWthLXRla2ktc2lhcGEtY29iYS1tdXNuYWhrYW4tYnVrdGktc2FhdC1rcGstZ2VsZWRhaC1rZW1lbnRhbtIBamh0dHBzOi8vbmV3cy5kZXRpay5jb20vYmVyaXRhL2QtNjk1ODc5NC90ZWthLXRla2ktc2lhcGEtY29iYS1tdXNuYWhrYW4tYnVrdGktc2FhdC1rcGstZ2VsZWRhaC1rZW1lbnRhbi9hbXA?oc=5&hl=en-US&gl=US&ceid=US:en',\n",
              "  'publisher': {'href': 'https://news.detik.com', 'title': 'detikNews'}},\n",
              " {'title': 'KPK Soal MA Cabut Aturan Koruptor Nyaleg: Biar Takut Korupsi - CNN Indonesia',\n",
              "  'description': 'KPK Soal MA Cabut Aturan Koruptor Nyaleg: Biar Takut Korupsi  CNN IndonesiaMA Kabulkan Gugatan ICW Soal Mantan Koruptor Nyaleg?  METRO TVMA Perintahkan KPU Cabut Aturan Karpet Merah Eks Koruptor Nyaleg  CNN IndonesiaMA Perintahkan KPU Cabut Dua Ketentuan yang Mudahkan Eks Terpidana Korupsi \"Nyaleg\" - Kompas.com  Nasional Kompas.comLihat Liputan Lengkap di Google Berita',\n",
              "  'published date': 'Sat, 30 Sep 2023 19:10:00 GMT',\n",
              "  'url': 'https://news.google.com/rss/articles/CBMie2h0dHBzOi8vd3d3LmNubmluZG9uZXNpYS5jb20vbmFzaW9uYWwvMjAyMzEwMDEwMTA3MDgtMTItMTAwNTY1Mi9rcGstc29hbC1tYS1jYWJ1dC1hdHVyYW4ta29ydXB0b3ItbnlhbGVnLWJpYXItdGFrdXQta29ydXBzadIBf2h0dHBzOi8vd3d3LmNubmluZG9uZXNpYS5jb20vbmFzaW9uYWwvMjAyMzEwMDEwMTA3MDgtMTItMTAwNTY1Mi9rcGstc29hbC1tYS1jYWJ1dC1hdHVyYW4ta29ydXB0b3ItbnlhbGVnLWJpYXItdGFrdXQta29ydXBzaS9hbXA?oc=5&hl=en-US&gl=US&ceid=US:en',\n",
              "  'publisher': {'href': 'https://www.cnnindonesia.com',\n",
              "   'title': 'CNN Indonesia'}},\n",
              " {'title': 'Hasto: Gibran Sudah Lapor Dipinang PBB Jadi Cawapres Prabowo | Republika Online - Republika Online',\n",
              "  'description': \"Hasto: Gibran Sudah Lapor Dipinang PBB Jadi Cawapres Prabowo | Republika Online  Republika OnlineHasto: Gibran Sudah Lapor PDIP Diusulkan Jadi Cawapres Prabowo  CNN IndonesiaRespons Puan Maharani soal Gibran Dipinang Jadi Cawapres Prabowo  KOMPASTVUsung Yusril Cawapres Prabowo, Majelis Syuro PBB Yakin Parpol Lain Legowo  detikNewsBeda Sikap PDI Perjuangan dan Golkar saat Kader 'Dipinang' untuk Prabowo Subianto pada Pilpres 2024 - Ayo Bogor  Ayo BogorLihat Liputan Lengkap di Google Berita\",\n",
              "  'published date': 'Sat, 30 Sep 2023 14:00:00 GMT',\n",
              "  'url': 'https://news.google.com/rss/articles/CBMiaWh0dHBzOi8vbmV3cy5yZXB1Ymxpa2EuY28uaWQvYmVyaXRhL3Mxc3V5eTM3Ny9oYXN0by1naWJyYW4tc3VkYWgtbGFwb3ItZGlwaW5hbmctcGJiLWphZGktY2F3YXByZXMtcHJhYm93b9IBAA?oc=5&hl=en-US&gl=US&ceid=US:en',\n",
              "  'publisher': {'href': 'https://news.republika.co.id',\n",
              "   'title': 'Republika Online'}},\n",
              " {'title': 'Survei Baru Capres Anies Vs Prabowo Vs Ganjar, Siapa Unggul? - CNBC Indonesia',\n",
              "  'description': 'Survei Baru Capres Anies Vs Prabowo Vs Ganjar, Siapa Unggul?  CNBC IndonesiaBurhanuddin Muhtadi: Ganjar Pranowo Unggul karena Faktor Sosialisasi | Kanal Pemilu Tepercaya  CNN IndonesiaSurvei Indikator: Tren Elektabilitas Ganjar Terus Naik, Prabowo Turun  detikNewsPrabowo Digdaya di Jabar, PKS: Kita Paham Petanya  detikJabarLihat Liputan Lengkap di Google Berita',\n",
              "  'published date': 'Sat, 30 Sep 2023 15:00:00 GMT',\n",
              "  'url': 'https://news.google.com/rss/articles/CBMidWh0dHBzOi8vd3d3LmNuYmNpbmRvbmVzaWEuY29tL25ld3MvMjAyMzA5MzAxODM3NTYtNC00NzY3MjMvc3VydmVpLWJhcnUtY2FwcmVzLWFuaWVzLXZzLXByYWJvd28tdnMtZ2FuamFyLXNpYXBhLXVuZ2d1bNIBAA?oc=5&hl=en-US&gl=US&ceid=US:en',\n",
              "  'publisher': {'href': 'https://www.cnbcindonesia.com',\n",
              "   'title': 'CNBC Indonesia'}},\n",
              " {'title': 'Tarif Baru LRT Jabodebek Berlaku Hari Ini, Maksimal Rp 20 Ribu - detikFinance',\n",
              "  'description': 'Tarif Baru LRT Jabodebek Berlaku Hari Ini, Maksimal Rp 20 Ribu  detikFinanceTerkini Bisnis: Tarif Flat LRT Jabodebek, Jokowi Sebut Jumlah Waduk di Indonesia  Bisnis Tempo.coPengumuman! Mulai 1 Oktober Tarif LRT Jabodebek Maksimal Rp 20.000  detikFinanceResmi, Ini Tarif Promo LRT Jabodebek mulai 1 Oktober 2023 - Kompas.com  Kompas.comIngat, Mulai 1 Oktober, Tarif LRT Jabodebek Tidak Lagi \"Pukul Rata\" Rp 5.000 - Kompas.com  Kompas.comLihat Liputan Lengkap di Google Berita',\n",
              "  'published date': 'Sat, 30 Sep 2023 23:30:32 GMT',\n",
              "  'url': 'https://news.google.com/rss/articles/CBMib2h0dHBzOi8vZmluYW5jZS5kZXRpay5jb20vaW5mcmFzdHJ1a3R1ci9kLTY5NTg2NzMvdGFyaWYtYmFydS1scnQtamFib2RlYmVrLWJlcmxha3UtaGFyaS1pbmktbWFrc2ltYWwtcnAtMjAtcmliddIBc2h0dHBzOi8vZmluYW5jZS5kZXRpay5jb20vaW5mcmFzdHJ1a3R1ci9kLTY5NTg2NzMvdGFyaWYtYmFydS1scnQtamFib2RlYmVrLWJlcmxha3UtaGFyaS1pbmktbWFrc2ltYWwtcnAtMjAtcmlidS9hbXA?oc=5&hl=en-US&gl=US&ceid=US:en',\n",
              "  'publisher': {'href': 'https://finance.detik.com', 'title': 'detikFinance'}},\n",
              " {'title': 'Peristiwa G30S/PKI: Sejarah, Kronologi, dan Tokohnya - Kompas.com - KOMPAS.com',\n",
              "  'description': 'Peristiwa G30S/PKI: Sejarah, Kronologi, dan Tokohnya - Kompas.com  KOMPAS.com[VIDEO ARSIP] PENGAKUAN SOEHARTO soal G30S/PKI: Bung Karno Tahu Saya akan Bubarkan PKI  TribunnewsJadi Film Wajib Era Soeharto, Mengapa \"Penumpasan Pengkhianatan G30S/PKI\" Berhenti Ditayangkan? - Kompas.com  KOMPAS.comTanggal 30 September Memperingati Hari Apa? Simak 6 Daftarnya  detikJabarJam Berapa Film G30S/PKI Tayang? Ini Jadwal dan Streaming-nya!  detikSumutLihat Liputan Lengkap di Google Berita',\n",
              "  'published date': 'Sat, 30 Sep 2023 15:00:00 GMT',\n",
              "  'url': 'https://news.google.com/rss/articles/CBMicGh0dHBzOi8vd3d3LmtvbXBhcy5jb20vdHJlbi9yZWFkLzIwMjMvMDkvMzAvMjIwMDAwMjY1L3BlcmlzdGl3YS1nMzBzLXBraS1zZWphcmFoLWtyb25vbG9naS1kYW4tdG9rb2hueWE_cGFnZT1hbGzSAWdodHRwczovL2FtcC5rb21wYXMuY29tL3RyZW4vcmVhZC8yMDIzLzA5LzMwLzIyMDAwMDI2NS9wZXJpc3Rpd2EtZzMwcy1wa2ktc2VqYXJhaC1rcm9ub2xvZ2ktZGFuLXRva29obnlh?oc=5&hl=en-US&gl=US&ceid=US:en',\n",
              "  'publisher': {'href': 'https://www.kompas.com', 'title': 'KOMPAS.com'}},\n",
              " {'title': 'Kabar Terbaru dari Siswa Pelaku Perundungan di Cilacap: Sadar Perbuatannya Salah - tvOneNews.com',\n",
              "  'description': 'Kabar Terbaru dari Siswa Pelaku Perundungan di Cilacap: Sadar Perbuatannya Salah  tvOneNews.comUsai Dirujuk, Kondisi Siswa SMP Korban Bully di Cilacap Mulai Membaik  KOMPASTVMK Ketua Geng Barisan Siswa Aniaya FF Di Cilacap Kini Menyesal, Sadar Tindakan Aniaya Salah  Tribun SumselKemungkinan Kasus Tersangka Bvlly1ng Bisa Bertambah  METRO TVViral Lagi Video Perundungan Cilacap, Polisi: Kelompok yang Sama  tvOneNews.comLihat Liputan Lengkap di Google Berita',\n",
              "  'published date': 'Sat, 30 Sep 2023 16:42:01 GMT',\n",
              "  'url': 'https://news.google.com/rss/articles/CBMifmh0dHBzOi8vd3d3LnR2b25lbmV3cy5jb20vZGFlcmFoL2phdGVuZy8xNTYzMjAta2FiYXItdGVyYmFydS1kYXJpLXNpc3dhLXBlbGFrdS1wZXJ1bmR1bmdhbi1kaS1jaWxhY2FwLXNhZGFyLXBlcmJ1YXRhbm55YS1zYWxhaNIBggFodHRwczovL3d3dy50dm9uZW5ld3MuY29tL2FtcC9kYWVyYWgvamF0ZW5nLzE1NjMyMC1rYWJhci10ZXJiYXJ1LWRhcmktc2lzd2EtcGVsYWt1LXBlcnVuZHVuZ2FuLWRpLWNpbGFjYXAtc2FkYXItcGVyYnVhdGFubnlhLXNhbGFo?oc=5&hl=en-US&gl=US&ceid=US:en',\n",
              "  'publisher': {'href': 'https://www.tvonenews.com',\n",
              "   'title': 'tvOneNews.com'}},\n",
              " {'title': 'Breaking News: 6 Kendaraan Terlibat Kecelakaan Beruntun di Tol Ungaran-Semarang - Jateng Solopos.com',\n",
              "  'description': 'Breaking News: 6 Kendaraan Terlibat Kecelakaan Beruntun di Tol Ungaran-Semarang  Jateng Solopos.comKecelakaan Beruntun di Tol Semarang, Kendaraan Sampai Tumpang Tindih  detikNewsKecelakaan Beruntun di Tol Semarang Libatkan 6 Kendaraan, Mobil Sampai Tumpang Tindih  TribunnewsKecelakaan Beruntun di Tol Semarang Dipicu Bus yang Tabrak Kendaraan di Depannya - kumparan.com  kumparan.comKondisi Honda Freed Tak Terbentuk Usai Tertindih CR-V di Tol Semarang  20DetikLihat Liputan Lengkap di Google Berita',\n",
              "  'published date': 'Sat, 30 Sep 2023 06:11:35 GMT',\n",
              "  'url': 'https://news.google.com/rss/articles/CBMicWh0dHBzOi8vamF0ZW5nLnNvbG9wb3MuY29tL2JyZWFraW5nLW5ld3MtNi1rZW5kYXJhYW4tdGVybGliYXQta2VjZWxha2Fhbi1iZXJ1bnR1bi1kaS10b2wtdW5nYXJhbi1zZW1hcmFuZy0xNzU0Njky0gF1aHR0cHM6Ly9qYXRlbmcuc29sb3Bvcy5jb20vYnJlYWtpbmctbmV3cy02LWtlbmRhcmFhbi10ZXJsaWJhdC1rZWNlbGFrYWFuLWJlcnVudHVuLWRpLXRvbC11bmdhcmFuLXNlbWFyYW5nLTE3NTQ2OTIvYW1w?oc=5&hl=en-US&gl=US&ceid=US:en',\n",
              "  'publisher': {'href': 'https://jateng.solopos.com',\n",
              "   'title': 'Jateng Solopos.com'}},\n",
              " {'title': 'Dedek Prayudi Beberkan Kronologi Terpilihnya Kaesang Pangarep Jadi Ketum PSI | Liputan 6 - Liputan6',\n",
              "  'description': 'Dedek Prayudi Beberkan Kronologi Terpilihnya Kaesang Pangarep Jadi Ketum PSI | Liputan 6  Liputan6Kaesang Sebut Pak Lurah, saat Ingatkan Arah Dukungan PSI untuk Pilpres 2024  KOMPASTVPSI Sambut Baik Jika Jokowi Bergabung Jadi Kader Susul Kaesang  CNN IndonesiaELECTION UPDATE - Kaesang Jadi Ketum PSI, Demi Dinasti Politik Jokowi?  METRO TVKaesang Berencana Temui Megawati, Puan: Ketemu Saya Dulu  detikNewsLihat Liputan Lengkap di Google Berita',\n",
              "  'published date': 'Sat, 30 Sep 2023 10:54:26 GMT',\n",
              "  'url': 'https://news.google.com/rss/articles/CCAiC3doUmtObDVtbWtVmAEB?oc=5&hl=en-US&gl=US&ceid=US:en',\n",
              "  'publisher': {'href': 'https://www.youtube.com', 'title': 'Liputan6'}}]"
            ]
          },
          "metadata": {},
          "execution_count": 10
        }
      ]
    },
    {
      "cell_type": "code",
      "source": [
        "#collect metadata by news topic\n",
        "#Available topics: WORLD, NATION, BUSINESS, TECHNOLOGY, ENTERTAINMENT, SPORTS, SCIENCE, HEALTH\n",
        "\n",
        "from gnews import GNews\n",
        "\n",
        "google_news = GNews(language='en', country='PK', max_results=5, exclude_websites=['yahoo.com', 'msn'])\n",
        "latest_news = google_news.get_news('politics')  # Empty string = general latest headlines\n",
        "latest_news"
      ],
      "metadata": {
        "colab": {
          "base_uri": "https://localhost:8080/"
        },
        "id": "dHiAf_7zvphJ",
        "outputId": "0ea73392-45f7-4b35-f301-1e2b276a2784"
      },
      "execution_count": 7,
      "outputs": [
        {
          "output_type": "execute_result",
          "data": {
            "text/plain": [
              "[{'title': 'Kashmir conflict: how it impacts Indian, Pakistani politics - DW',\n",
              "  'description': 'Kashmir conflict: how it impacts Indian, Pakistani politics  DW',\n",
              "  'published date': 'Mon, 12 May 2025 15:49:47 GMT',\n",
              "  'url': 'https://news.google.com/rss/articles/CBMilAFBVV95cUxOT3FacllRREdvOE5hQWJiLVVtWDdQcjVEczI0WDY2T3FoZEJIbnZYdkoycms5dHZXX3ZiMHBRQVI1M1FYblY1Tlh3RldpcDIza0N1VXZ0REwwVzR1YnN3RTZ0eFFDTGtiYW9HdzdvMlFwdXV5clItQzFLWGhGbDFycVhCWXB5ZGxNZWJmQjdkcUI2SEYt0gGUAUFVX3lxTFBuamFWTXJVQVpKa3czTVNtS0JWWXc2a0kzR3lVRDJRb1kzR3h5emZWYjZibWNQalhILXFFOXZqejBYemFnanZCWFAwWG5VSUlXOGRlc29MRktBLWxqZVdna041dl8zUkJtSFFxUVlFTWZLRGJPbHpIZ1NUempUc0hVbXZFVWJrbWdVelFueFlfdENiUEI?oc=5&hl=en-US&gl=US&ceid=US:en',\n",
              "  'publisher': {'href': 'https://www.dw.com', 'title': 'DW'}},\n",
              " {'title': 'Politics & Diplomacy - Atlantic Council',\n",
              "  'description': 'Politics & Diplomacy  Atlantic Council',\n",
              "  'published date': 'Thu, 08 May 2025 07:00:00 GMT',\n",
              "  'url': 'https://news.google.com/rss/articles/CBMiaEFVX3lxTE1ic1JkWTc5TnFfMWxhSEFxTFZORmp4LWdybkhFYmhVam4yU3NOR2dGOVF3cnVLRzdyYW5JZlAzLWxQQnJvZU1qaG9kcUxGSmpwZ05acHI3eXh6QWNjREQzeEYtaVR0bmlI?oc=5&hl=en-US&gl=US&ceid=US:en',\n",
              "  'publisher': {'href': 'https://www.atlanticcouncil.org',\n",
              "   'title': 'Atlantic Council'}},\n",
              " {'title': \"Labour's immigration plans at a glance - BBC\",\n",
              "  'description': \"Labour's immigration plans at a glance  BBC\",\n",
              "  'published date': 'Mon, 12 May 2025 17:00:05 GMT',\n",
              "  'url': 'https://news.google.com/rss/articles/CBMiWkFVX3lxTE43UXZnU3F6NlEzTHFkOUlpWUpoRjF0a1J5dThzUFY4d0ttWjg2WHFKRGxpcW5aMFNxbnF0V0RkY3F2Y0U2S1dCRUpMa3NIOC1QdExMLU1RTkltUdIBX0FVX3lxTFA1cDlpLXJLUG9PM0EtQjZ1YzV0RDFmQWQ0eW01cFpWVzh6Mi1kczhxelR3bzhYRVdmdzl5ZjJ2M0pSa1RlR1htdExreWJTTUxscnNXSmx3YlpDZEtDejZZ?oc=5&hl=en-US&gl=US&ceid=US:en',\n",
              "  'publisher': {'href': 'https://www.bbc.com', 'title': 'BBC'}},\n",
              " {'title': 'The politics of contradiction have led us to decline - CapX',\n",
              "  'description': 'The politics of contradiction have led us to decline  CapX',\n",
              "  'published date': 'Mon, 12 May 2025 17:08:34 GMT',\n",
              "  'url': 'https://news.google.com/rss/articles/CBMid0FVX3lxTE96U1NTMktrMm5DQ1E2RnMwQkI3ZVVoTjQ0X3ZPR05qakk3ekdZa1RLQTgwNkdIMkpsNVhKUENvd3pGa3JfWmd6VEMzSGVEcERSYnlMNDJHVmJmbHlzOFAyYzNKaVFWVkhBLXp0OUNNcnJjZ1YtbmVJ?oc=5&hl=en-US&gl=US&ceid=US:en',\n",
              "  'publisher': {'href': 'https://capx.co', 'title': 'CapX'}},\n",
              " {'title': 'Bill Gates says businesses need to understand the politics for the next 20 years, not just the next two days - Fortune',\n",
              "  'description': 'Bill Gates says businesses need to understand the politics for the next 20 years, not just the next two days  Fortune',\n",
              "  'published date': 'Mon, 12 May 2025 14:57:00 GMT',\n",
              "  'url': 'https://news.google.com/rss/articles/CBMiiAFBVV95cUxQaC1jLS1jbEFqMzhVQzN6X1RpMUllZUl4RkhRSUQyS3ZMc0VibUdjZW0zNUFlVXJUOEZKQlpWLTU4R3EtM21NMDg2c18zSjVHQVNjR19LaXBUUTlDTWRTekpqTGctRW51NTlLNnlIY1dZT3ZVZlFjZS1nekxDNDIwUEpfSUFrUE51?oc=5&hl=en-US&gl=US&ceid=US:en',\n",
              "  'publisher': {'href': 'https://fortune.com', 'title': 'Fortune'}}]"
            ]
          },
          "metadata": {},
          "execution_count": 7
        }
      ]
    },
    {
      "cell_type": "markdown",
      "source": [
        "## Extract news content\n",
        "The `UnstructuredURLLoader` from Langchain library is usefull toolkit to get easy access to HTML contents from a url. This package is actually a wrapper of `bricks.html` partition from [Unstructured](https://unstructured-io.github.io/unstructured/bricks/partition.html#partition-html) library.  We will use it as a news content extractor by taking input from url collected at previous steps."
      ],
      "metadata": {
        "id": "BWhh3SmsU6ne"
      }
    },
    {
      "cell_type": "code",
      "source": [
        "#test to extract content from url inside news_by_topic\n",
        "\n",
        "urls = [latest_news[0]['url'],\n",
        "        latest_news[1]['url'],\n",
        "      ]\n",
        "\n",
        "loader = UnstructuredURLLoader(urls=urls)\n",
        "content = loader.load()\n",
        "\n",
        "#check news content\n",
        "content"
      ],
      "metadata": {
        "colab": {
          "base_uri": "https://localhost:8080/"
        },
        "id": "bwZ3SZ8cWJ8N",
        "outputId": "c88fe8e6-94e3-4ac6-de18-38b42f5c608b"
      },
      "execution_count": 10,
      "outputs": [
        {
          "output_type": "execute_result",
          "data": {
            "text/plain": [
              "[Document(metadata={'source': 'https://news.google.com/rss/articles/CBMilAFBVV95cUxOT3FacllRREdvOE5hQWJiLVVtWDdQcjVEczI0WDY2T3FoZEJIbnZYdkoycms5dHZXX3ZiMHBRQVI1M1FYblY1Tlh3RldpcDIza0N1VXZ0REwwVzR1YnN3RTZ0eFFDTGtiYW9HdzdvMlFwdXV5clItQzFLWGhGbDFycVhCWXB5ZGxNZWJmQjdkcUI2SEYt0gGUAUFVX3lxTFBuamFWTXJVQVpKa3czTVNtS0JWWXc2a0kzR3lVRDJRb1kzR3h5emZWYjZibWNQalhILXFFOXZqejBYemFnanZCWFAwWG5VSUlXOGRlc29MRktBLWxqZVdna041dl8zUkJtSFFxUVlFTWZLRGJPbHpIZ1NUempUc0hVbXZFVWJrbWdVelFueFlfdENiUEI?oc=5&hl=en-US&gl=US&ceid=US:en'}, page_content=''),\n",
              " Document(metadata={'source': 'https://news.google.com/rss/articles/CBMiaEFVX3lxTE1ic1JkWTc5TnFfMWxhSEFxTFZORmp4LWdybkhFYmhVam4yU3NOR2dGOVF3cnVLRzdyYW5JZlAzLWxQQnJvZU1qaG9kcUxGSmpwZ05acHI3eXh6QWNjREQzeEYtaVR0bmlI?oc=5&hl=en-US&gl=US&ceid=US:en'}, page_content='')]"
            ]
          },
          "metadata": {},
          "execution_count": 10
        }
      ]
    },
    {
      "cell_type": "markdown",
      "source": [
        "### Summarize News with Vertex PALM API\n",
        "\n",
        "The next step is calling `text-bison@001` to generate the news summary. We need to supply prompt to tell the model on how to summarize the text.\n",
        "\n",
        "\n",
        "**Prompting**\n",
        "\n",
        "Correct prompting is essential for getting accurate results from a LLM. Supply `prompt_template`  with prompt text to tell the model to generate news summary, using the following steps:\n",
        "  * summary consists of maximum 100 words\n",
        "  * If the text cannot be found or error, return: \"Content empty\"\n",
        "  * Use only materials from the text supplied\n",
        "  * Create summary in Bahasa Indonesia\n",
        "\n"
      ],
      "metadata": {
        "id": "-Re7KBsUOiX1"
      }
    },
    {
      "cell_type": "code",
      "source": [
        "#prompting to perform news summary\n",
        "prompt_template = \"\"\"Generate summary for the following text, using the following steps:\n",
        "                     1. summary consists of maximum 100 words\n",
        "                     2. If the text cannot be found or error, return: \"Content empty\"\n",
        "                     3. Use only materials from the text supplied\n",
        "                     4. Create summary in Bahasa Indonesia\n",
        "\n",
        "                    \"{text}\"\n",
        "                    SUMMARY:\"\"\"\n",
        "\n",
        "prompt = PromptTemplate.from_template(prompt_template)\n",
        "\n",
        "# load the gemini- model\n",
        "from langchain_google_genai import ChatGoogleGenerativeAI\n",
        "\n",
        "llm = ChatGoogleGenerativeAI(\n",
        "    model=\"gemini-2.0-flash\",\n",
        "    temperature=0,\n",
        "    max_tokens=None,\n",
        "    timeout=None,\n",
        "    max_retries=2,\n",
        "    # other params...\n",
        ")"
      ],
      "metadata": {
        "id": "8FNzSR9f-y3C"
      },
      "execution_count": null,
      "outputs": []
    },
    {
      "cell_type": "markdown",
      "source": [
        "Wrap the summarization process inside a function to loop collections of news urls. The generate_summary function perform the following:\n",
        "- Retrieve news content from each urls\n",
        "- Generate summary for each news contents\n",
        "- Print the output"
      ],
      "metadata": {
        "id": "P1gy6A9uTqOo"
      }
    },
    {
      "cell_type": "code",
      "source": [
        "# create function to generate news summary based on list of news urls\n",
        "# Load URL , get news content and summarize\n",
        "def generate_summary(docnews):\n",
        "    for item in docnews:\n",
        "        #extract news content\n",
        "        loader = UnstructuredURLLoader(urls=[item['url']])\n",
        "        data = loader.load()\n",
        "\n",
        "        #summarize using stuff for easy processing\n",
        "        chain = load_summarize_chain(llm,\n",
        "                                    chain_type=\"stuff\",\n",
        "                                    prompt=prompt)\n",
        "        summary = chain.run(data)\n",
        "\n",
        "        #show summary for each news headlines\n",
        "        print(item['title'])\n",
        "        print(item['publisher']['title'], item['published date'])\n",
        "        print(summary, '\\n')"
      ],
      "metadata": {
        "id": "u25A_j2I2Q74"
      },
      "execution_count": null,
      "outputs": []
    },
    {
      "cell_type": "code",
      "source": [
        "#call the function and generate summary for news by keyword\n",
        "generate_summary(news_by_keyword)"
      ],
      "metadata": {
        "colab": {
          "base_uri": "https://localhost:8080/"
        },
        "id": "2cMSEdYZAyI2",
        "outputId": "47fc12cd-c0b3-4965-e4af-0d8504f29e23"
      },
      "execution_count": null,
      "outputs": [
        {
          "output_type": "stream",
          "name": "stdout",
          "text": [
            "Tarif Kereta Cepat Jakarta-Kota Bandung Rp 350 Ribu, Mahal? - CNBC Indonesia\n",
            "CNBC Indonesia Sat, 30 Sep 2023 09:45:00 GMT\n",
            " Kereta Cepat Jakarta-Bandung akan diresmikan pada 2 Oktober 2023. Tarifnya diperkirakan sekitar Rp300.000-Rp350.000 untuk kelas ekonomi. Setelah uji coba gratis, tiket akan dikenakan biaya. Presiden Jokowi ingin harga tiket terjangkau dan bisa didiskon untuk menarik minat masyarakat. \n",
            "\n",
            "Siaran Pers: Kereta Cepat \"Whoosh\" Diharapkan Perkuat Capaian ... - Kemenparekraf\n",
            "Kemenparekraf Sat, 30 Sep 2023 05:53:06 GMT\n",
            " Kereta Cepat Jakarta-Bandung atau \"Whoosh\" akan resmi beroperasi mulai 2 Oktober 2023. Kereta cepat ini diharapkan dapat memperkuat capaian target wisatawan nusantara dan mancanegara di tahun 2023. \n",
            "\n",
            "Kemenparekraf dikatakan Dessy senantiasa mendorong pelaku industri agar mulai membuat paket-paket perjalanan wisata dengan memasukkan kereta cepat sebagai salah satu daya tarik ataupun transportasi pilihan. \n",
            "\n",
            "Kereta Cepat Jakarta-Bandung \"Whoosh\" terbagi dalam tiga kategori kelas. Yakni Rp350 ribu untuk first class, Rp300 ribu untuk _business \n",
            "\n",
            "Kereta Cepat Diharapkan Bantu Geliatkan Kunjungan Wisatawan ... - Republika Online\n",
            "Republika Online Sat, 30 Sep 2023 14:40:05 GMT\n",
            " Kereta cepat Jakarta-Bandung akan resmi beroperasi mulai 2 Oktober 2023. Kereta cepat ini diharapkan dapat memberi dampak pada peningkatan kualitas sektor pariwisata dan ekonomi kreatif di Tanah Air. \n",
            "Khususnya, aksesibilitas wisatawan menuju berbagai destinasi dan sentra ekonomi kreatif di Jawa Barat. \n",
            "Deputi Bidang Kebijakan Strategis Kemenparekraf, Dessy Ruhati meyakini kehadiran Whoosh dapat memperkuat capaian target wisatawan baik nusantara maupun mancanegara di tahun 2023 \n",
            "\n",
            "Stasiun Padalarang Siap Sambut Penumpang Kereta Cepat Jakarta ... - kompas.id\n",
            "kompas.id Sat, 30 Sep 2023 12:57:47 GMT\n",
            " Stasiun Padalarang siap menyambut penumpang kereta cepat Jakarta-Bandung. Stasiun ini akan menjadi simpul transportasi antara Whoosh dan kereta pengumpan menuju Stasiun Bandung. Fasilitas ini diharapkan bisa semakin memangkas waktu tempuh menuju Kota Bandung. \n",
            "\n",
            "20 Awak Redaksi Rakyat Merdeka Jajal Kereta Cepat Whoosh - RM.ID\n",
            "RM.ID Sun, 01 Oct 2023 00:40:00 GMT\n",
            " Kereta Cepat Jakarta-Bandung (KCJB) akan diresmikan Presiden Jokowi pada Senin (2/10/2023). Kereta yang diberi nama Whoosh itu, akan beroperasi secara komersial dengan rute Halim (Jakarta) menuju Tegalluar (Bandung). \n",
            "\n",
            "Redaksi Rakyat Merdeka yang berjumlah 20 orang, mendapat kesempatan menjajal kereta anyar itu. Kereta berwarna silver dengan aksen merah ini, berangkat dari Halim tepat pukul 14.00 WIB. \n",
            "\n",
            "Dengan kecepatan mencapai 350 km/jam, perjalanan Jakarta-Bandung ditemp \n",
            "\n"
          ]
        }
      ]
    },
    {
      "cell_type": "code",
      "source": [
        "#call the function and generate summary for news by topics\n",
        "generate_summary(news_by_topic)"
      ],
      "metadata": {
        "colab": {
          "base_uri": "https://localhost:8080/"
        },
        "id": "LUuQanOTA-Fm",
        "outputId": "7c7d3329-d24b-4a8f-b247-6a1e84b0a871"
      },
      "execution_count": null,
      "outputs": [
        {
          "output_type": "stream",
          "name": "stdout",
          "text": [
            "Tottenham Vs Liverpool: Badan Wasit Ngaku Salah, Gol Luis Diaz Harusnya Sah - detikSport\n",
            "detikSport Sat, 30 Sep 2023 23:00:00 GMT\n",
            " Tottenham Hotspur vs Liverpool: Badan Wasit Profesional Inggris (PGMOL) mengakui adanya kesalahan dalam pertandingan tersebut. Gol Luis Diaz yang dianulir seharusnya sah. PGMOL akan melakukan tinjauan penuh atas insiden tersebut. \n",
            "\n",
            "MU Vs Palace: Setan Merah Kalah! - detikSport\n",
            "detikSport Sat, 30 Sep 2023 15:58:02 GMT\n",
            " Manchester United kalah 0-1 dari Crystal Palace di Old Trafford pada lanjutan Liga Inggris, Sabtu (30/9/2023) malam WIB. Gol tunggal kemenangan Palace dicetak oleh Joachim Andersen pada menit ke-25. MU gagal memanfaatkan sejumlah peluang dan kesulitan menembus pertahanan Palace yang disiplin. Kekalahan ini membuat MU tertahan di posisi 10 klasemen sementara dengan sembilan poin dari tujuh pertandingan. \n",
            "\n",
            "Rating Pemain Manchester City Versus Wolverhampton Wanderers: Erling Haaland Cuma Sekadar Kameo Dalam Kekalahan Pertama - Goal.com\n",
            "Goal.com Sat, 30 Sep 2023 19:35:00 GMT\n",
            " Manchester City menelan kekalahan pertama mereka di Liga Premier musim ini saat bertandang ke markas Wolverhampton Wanderers. Meskipun sempat unggul terlebih dahulu melalui gol Julian Alvarez, City harus mengakui keunggulan Wolves dengan skor 2-1. Hwang Hee-chan menjadi pahlawan kemenangan Wolves dengan mencetak gol kemenangan pada menit ke-64. \n",
            "\n",
            "Kata-kata Zohri Usai Gagal Raih Medali di Asian Games 2023 - CNN Indonesia\n",
            "CNN Indonesia Sat, 30 Sep 2023 17:55:36 GMT\n",
            " Sprinter Indonesia Lalu Muhammad Zohri meminta maaf setelah gagal meraih medali di nomor 100 meter putra Asian Games 2022. Zohri hanya mampu finis keenam pada final lari 100 meter putra Asian Games 2022 yang digelar di Stadion Hangzhou Olympics Sports Centre, Hangzhou, Sabtu (30/9). \n",
            "\n",
            "Hasil Salernitana vs Inter Milan: Skor 0-4 - Bola.net\n",
            "Bola.net Sat, 30 Sep 2023 20:37:00 GMT\n",
            " Inter Milan menang telak 4-0 atas Salernitana dalam lanjutan Serie A. Lautaro Martinez menjadi bintang kemenangan Nerazzurri dengan mencetak quattrick. \n",
            "\n"
          ]
        }
      ]
    },
    {
      "cell_type": "code",
      "source": [],
      "metadata": {
        "id": "Flcpa_NbWziZ"
      },
      "execution_count": null,
      "outputs": []
    }
  ]
}